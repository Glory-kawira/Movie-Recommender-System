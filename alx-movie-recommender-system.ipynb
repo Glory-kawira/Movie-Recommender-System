{
 "cells": [
  {
   "cell_type": "code",
   "execution_count": 1,
   "id": "dd639524",
   "metadata": {
    "_cell_guid": "b1076dfc-b9ad-4769-8c92-a6c4dae69d19",
    "_uuid": "8f2839f25d086af736a60e9eeb907d3b93b6e0e5",
    "execution": {
     "iopub.execute_input": "2024-06-22T18:38:45.139004Z",
     "iopub.status.busy": "2024-06-22T18:38:45.138649Z",
     "iopub.status.idle": "2024-06-22T18:38:45.890817Z",
     "shell.execute_reply": "2024-06-22T18:38:45.889350Z"
    },
    "papermill": {
     "duration": 0.760019,
     "end_time": "2024-06-22T18:38:45.893019",
     "exception": false,
     "start_time": "2024-06-22T18:38:45.133000",
     "status": "completed"
    },
    "tags": []
   },
   "outputs": [
    {
     "name": "stdout",
     "output_type": "stream",
     "text": [
      "/kaggle/input/alx-movie-recommendation-project-2024/sample_submission.csv\n",
      "/kaggle/input/alx-movie-recommendation-project-2024/movies.csv\n",
      "/kaggle/input/alx-movie-recommendation-project-2024/imdb_data.csv\n",
      "/kaggle/input/alx-movie-recommendation-project-2024/genome_tags.csv\n",
      "/kaggle/input/alx-movie-recommendation-project-2024/genome_scores.csv\n",
      "/kaggle/input/alx-movie-recommendation-project-2024/train.csv\n",
      "/kaggle/input/alx-movie-recommendation-project-2024/test.csv\n",
      "/kaggle/input/alx-movie-recommendation-project-2024/tags.csv\n",
      "/kaggle/input/alx-movie-recommendation-project-2024/links.csv\n"
     ]
    }
   ],
   "source": [
    "import numpy as np # linear algebra\n",
    "import pandas as pd # data processing, CSV file I/O (e.g. pd.read_csv)\n",
    "\n",
    "\n",
    "import os\n",
    "for dirname, _, filenames in os.walk('/kaggle/input'):\n",
    "    for filename in filenames:\n",
    "        print(os.path.join(dirname, filename))"
   ]
  },
  {
   "cell_type": "code",
   "execution_count": 2,
   "id": "16b75f32",
   "metadata": {
    "execution": {
     "iopub.execute_input": "2024-06-22T18:38:45.905352Z",
     "iopub.status.busy": "2024-06-22T18:38:45.904453Z",
     "iopub.status.idle": "2024-06-22T18:38:46.961847Z",
     "shell.execute_reply": "2024-06-22T18:38:46.960998Z"
    },
    "papermill": {
     "duration": 1.066211,
     "end_time": "2024-06-22T18:38:46.964202",
     "exception": false,
     "start_time": "2024-06-22T18:38:45.897991",
     "status": "completed"
    },
    "tags": []
   },
   "outputs": [],
   "source": [
    "from tqdm import tqdm\n",
    "import time\n",
    "from sklearn.feature_extraction.text import TfidfVectorizer\n",
    "from surprise import Reader, Dataset, SVDpp, KNNWithMeans, SlopeOne\n",
    "from surprise.model_selection import GridSearchCV\n",
    "\n",
    "import warnings\n",
    "warnings.filterwarnings(\"ignore\")"
   ]
  },
  {
   "cell_type": "code",
   "execution_count": 3,
   "id": "618b24d9",
   "metadata": {
    "execution": {
     "iopub.execute_input": "2024-06-22T18:38:46.973598Z",
     "iopub.status.busy": "2024-06-22T18:38:46.972896Z",
     "iopub.status.idle": "2024-06-22T18:38:47.463438Z",
     "shell.execute_reply": "2024-06-22T18:38:47.462436Z"
    },
    "papermill": {
     "duration": 0.497703,
     "end_time": "2024-06-22T18:38:47.465832",
     "exception": false,
     "start_time": "2024-06-22T18:38:46.968129",
     "status": "completed"
    },
    "tags": []
   },
   "outputs": [],
   "source": [
    "# Install packages here\n",
    "# Packages for data processing\n",
    "import numpy as np\n",
    "import pandas as pd\n",
    "from tqdm import tqdm\n",
    "import heapq\n",
    "import datetime\n",
    "from sklearn import preprocessing\n",
    "from sklearn.datasets import make_blobs\n",
    "from sklearn.preprocessing import StandardScaler\n",
    "from sklearn.feature_extraction.text import TfidfVectorizer\n",
    "from sklearn.metrics.pairwise import cosine_similarity\n",
    "import re\n",
    "from scipy.sparse import csr_matrix\n",
    "import scipy as sp\n",
    "\n",
    "\n",
    "# Packages for visualization\n",
    "import matplotlib.pyplot as plt\n",
    "import seaborn as sns\n",
    "%matplotlib inline\n",
    "\n",
    "# Packages for modeling\n",
    "from surprise import Reader\n",
    "from surprise import Dataset\n",
    "from surprise import KNNWithMeans\n",
    "from surprise import KNNBasic\n",
    "from surprise.model_selection import cross_validate\n",
    "from surprise.model_selection import GridSearchCV\n",
    "from surprise import SVD\n",
    "from surprise import SVDpp\n",
    "from surprise import NMF\n",
    "from surprise import SlopeOne\n",
    "from surprise import CoClustering\n",
    "import heapq\n",
    "\n",
    "# Packages for model evaluation\n",
    "from sklearn.metrics import mean_squared_error\n",
    "from sklearn.metrics import mean_absolute_error\n",
    "from time import time\n",
    "\n",
    "# Package to suppress warnings\n",
    "import warnings\n",
    "warnings.filterwarnings(\"ignore\")\n",
    "\n",
    "# Packages for saving models\n",
    "import pickle"
   ]
  },
  {
   "cell_type": "markdown",
   "id": "22877917",
   "metadata": {
    "papermill": {
     "duration": 0.00342,
     "end_time": "2024-06-22T18:38:47.473245",
     "exception": false,
     "start_time": "2024-06-22T18:38:47.469825",
     "status": "completed"
    },
    "tags": []
   },
   "source": [
    "from tqdm import tqdm\n",
    "import time\n",
    "from sklearn.feature_extraction.text import TfidfVectorizer\n",
    "from surprise import Reader, Dataset, SVDpp, KNNWithMeans, SlopeOne\n",
    "from surprise.model_selection import GridSearchCV\n",
    "\n",
    "import warnings\n",
    "warnings.filterwarnings(\"ignore\")"
   ]
  },
  {
   "cell_type": "code",
   "execution_count": 4,
   "id": "7f7fc5e0",
   "metadata": {
    "execution": {
     "iopub.execute_input": "2024-06-22T18:38:47.481803Z",
     "iopub.status.busy": "2024-06-22T18:38:47.481435Z",
     "iopub.status.idle": "2024-06-22T18:39:04.020044Z",
     "shell.execute_reply": "2024-06-22T18:39:04.019007Z"
    },
    "papermill": {
     "duration": 16.545726,
     "end_time": "2024-06-22T18:39:04.022514",
     "exception": false,
     "start_time": "2024-06-22T18:38:47.476788",
     "status": "completed"
    },
    "tags": []
   },
   "outputs": [
    {
     "name": "stdout",
     "output_type": "stream",
     "text": [
      "   movieId  tagId  relevance\n",
      "0        1      1    0.02875\n",
      "1        1      2    0.02375\n",
      "2        1      3    0.06250\n",
      "3        1      4    0.07575\n",
      "4        1      5    0.14075\n",
      "   tagId           tag\n",
      "0      1           007\n",
      "1      2  007 (series)\n",
      "2      3  18th century\n",
      "3      4         1920s\n",
      "4      5         1930s\n",
      "   movieId                                         title_cast  \\\n",
      "0        1  Tom Hanks|Tim Allen|Don Rickles|Jim Varney|Wal...   \n",
      "1        2  Robin Williams|Jonathan Hyde|Kirsten Dunst|Bra...   \n",
      "2        3  Walter Matthau|Jack Lemmon|Sophia Loren|Ann-Ma...   \n",
      "3        4  Whitney Houston|Angela Bassett|Loretta Devine|...   \n",
      "4        5  Steve Martin|Diane Keaton|Martin Short|Kimberl...   \n",
      "\n",
      "              director  runtime       budget  \\\n",
      "0        John Lasseter     81.0  $30,000,000   \n",
      "1   Jonathan Hensleigh    104.0  $65,000,000   \n",
      "2  Mark Steven Johnson    101.0  $25,000,000   \n",
      "3       Terry McMillan    124.0  $16,000,000   \n",
      "4       Albert Hackett    106.0  $30,000,000   \n",
      "\n",
      "                                       plot_keywords  \n",
      "0                   toy|rivalry|cowboy|cgi animation  \n",
      "1                   board game|adventurer|fight|game  \n",
      "2                         boat|lake|neighbor|rivalry  \n",
      "3  black american|husband wife relationship|betra...  \n",
      "4                    fatherhood|doberman|dog|mansion  \n",
      "   movieId  imdbId   tmdbId\n",
      "0        1  114709    862.0\n",
      "1        2  113497   8844.0\n",
      "2        3  113228  15602.0\n",
      "3        4  114885  31357.0\n",
      "4        5  113041  11862.0\n",
      "   userId  movieId               tag   timestamp\n",
      "0       3      260           classic  1439472355\n",
      "1       3      260            sci-fi  1439472256\n",
      "2       4     1732       dark comedy  1573943598\n",
      "3       4     1732    great dialogue  1573943604\n",
      "4       4     7569  so bad it's good  1573943455\n",
      "   userId  movieId  rating   timestamp\n",
      "0    5163    57669     4.0  1518349992\n",
      "1  106343        5     4.5  1206238739\n",
      "2  146790     5459     5.0  1076215539\n",
      "3  106362    32296     2.0  1423042565\n",
      "4    9041      366     3.0   833375837\n",
      "   movieId                               title  \\\n",
      "0        1                    Toy Story (1995)   \n",
      "1        2                      Jumanji (1995)   \n",
      "2        3             Grumpier Old Men (1995)   \n",
      "3        4            Waiting to Exhale (1995)   \n",
      "4        5  Father of the Bride Part II (1995)   \n",
      "\n",
      "                                        genres  \n",
      "0  Adventure|Animation|Children|Comedy|Fantasy  \n",
      "1                   Adventure|Children|Fantasy  \n",
      "2                               Comedy|Romance  \n",
      "3                         Comedy|Drama|Romance  \n",
      "4                                       Comedy  \n",
      "   userId  movieId\n",
      "0       1     2011\n",
      "1       1     4144\n",
      "2       1     5767\n",
      "3       1     6711\n",
      "4       1     7318\n"
     ]
    }
   ],
   "source": [
    "import pandas as pd\n",
    "\n",
    "# Load the data\n",
    "genome_scores = pd.read_csv('/kaggle/input/alx-movie-recommendation-project-2024/genome_scores.csv')\n",
    "genome_tags = pd.read_csv('/kaggle/input/alx-movie-recommendation-project-2024/genome_tags.csv')\n",
    "imdb_data = pd.read_csv('/kaggle/input/alx-movie-recommendation-project-2024/imdb_data.csv')\n",
    "links = pd.read_csv('/kaggle/input/alx-movie-recommendation-project-2024/links.csv')\n",
    "tags = pd.read_csv('/kaggle/input/alx-movie-recommendation-project-2024/tags.csv')\n",
    "train = pd.read_csv('/kaggle/input/alx-movie-recommendation-project-2024/train.csv')\n",
    "movies = pd.read_csv('/kaggle/input/alx-movie-recommendation-project-2024/movies.csv')\n",
    "test = pd.read_csv('/kaggle/input/alx-movie-recommendation-project-2024/test.csv')\n",
    "\n",
    "# Display the first few rows of each DataFrame\n",
    "print(genome_scores.head())\n",
    "print(genome_tags.head())\n",
    "print(imdb_data.head())\n",
    "print(links.head())\n",
    "print(tags.head())\n",
    "print(train.head())\n",
    "print(movies.head())\n",
    "print(test.head())\n"
   ]
  },
  {
   "cell_type": "code",
   "execution_count": 5,
   "id": "f53b9061",
   "metadata": {
    "execution": {
     "iopub.execute_input": "2024-06-22T18:39:04.031801Z",
     "iopub.status.busy": "2024-06-22T18:39:04.031458Z",
     "iopub.status.idle": "2024-06-22T18:39:04.151116Z",
     "shell.execute_reply": "2024-06-22T18:39:04.150089Z"
    },
    "papermill": {
     "duration": 0.126633,
     "end_time": "2024-06-22T18:39:04.153264",
     "exception": false,
     "start_time": "2024-06-22T18:39:04.026631",
     "status": "completed"
    },
    "tags": []
   },
   "outputs": [
    {
     "name": "stdout",
     "output_type": "stream",
     "text": [
      "Train: \n",
      "userId       0\n",
      "movieId      0\n",
      "rating       0\n",
      "timestamp    0\n",
      "dtype: int64\n",
      "************\n",
      "Test: \n",
      "userId     0\n",
      "movieId    0\n",
      "dtype: int64\n",
      "************\n",
      "Movies: \n",
      "movieId    0\n",
      "title      0\n",
      "genres     0\n",
      "dtype: int64\n",
      "************\n",
      "Links: \n",
      "movieId      0\n",
      "imdbId       0\n",
      "tmdbId     107\n",
      "dtype: int64\n",
      "************\n",
      "IMDB: \n",
      "movieId              0\n",
      "title_cast       10068\n",
      "director          9874\n",
      "runtime          12089\n",
      "budget           19372\n",
      "plot_keywords    11078\n",
      "dtype: int64\n",
      "************\n",
      "Genome scores: \n",
      "movieId      0\n",
      "tagId        0\n",
      "relevance    0\n",
      "dtype: int64\n",
      "************\n",
      "Genome tags: \n",
      "tagId    0\n",
      "tag      0\n",
      "dtype: int64\n"
     ]
    }
   ],
   "source": [
    "print(\"Train: \")\n",
    "print(str(train.isnull().sum()))\n",
    "print(\"************\")\n",
    "print(\"Test: \")\n",
    "print(str(test.isnull().sum()))\n",
    "print(\"************\")\n",
    "print(\"Movies: \")\n",
    "print(str(movies.isnull().sum()))\n",
    "print(\"************\")\n",
    "print(\"Links: \")\n",
    "print(str(links.isnull().sum()))\n",
    "print(\"************\")\n",
    "print(\"IMDB: \")\n",
    "print(str(imdb_data.isnull().sum()))\n",
    "print(\"************\")\n",
    "print(\"Genome scores: \")\n",
    "print(str(genome_scores.isnull().sum()))\n",
    "print(\"************\")\n",
    "print(\"Genome tags: \")\n",
    "print(str(genome_tags.isnull().sum()))"
   ]
  },
  {
   "cell_type": "code",
   "execution_count": 6,
   "id": "2b0a3bf8",
   "metadata": {
    "execution": {
     "iopub.execute_input": "2024-06-22T18:39:04.163085Z",
     "iopub.status.busy": "2024-06-22T18:39:04.162212Z",
     "iopub.status.idle": "2024-06-22T18:39:15.268477Z",
     "shell.execute_reply": "2024-06-22T18:39:15.267630Z"
    },
    "papermill": {
     "duration": 11.113547,
     "end_time": "2024-06-22T18:39:15.270822",
     "exception": false,
     "start_time": "2024-06-22T18:39:04.157275",
     "status": "completed"
    },
    "tags": []
   },
   "outputs": [],
   "source": [
    "# Prepare data for Surprise library\n",
    "reader = Reader(rating_scale=(0.5, 5.0))\n",
    "data = Dataset.load_from_df(train[['userId', 'movieId', 'rating']], reader)"
   ]
  },
  {
   "cell_type": "code",
   "execution_count": 7,
   "id": "e4055329",
   "metadata": {
    "execution": {
     "iopub.execute_input": "2024-06-22T18:39:15.280318Z",
     "iopub.status.busy": "2024-06-22T18:39:15.279987Z",
     "iopub.status.idle": "2024-06-22T18:42:58.215009Z",
     "shell.execute_reply": "2024-06-22T18:42:58.213988Z"
    },
    "papermill": {
     "duration": 222.945692,
     "end_time": "2024-06-22T18:42:58.220637",
     "exception": false,
     "start_time": "2024-06-22T18:39:15.274945",
     "status": "completed"
    },
    "tags": []
   },
   "outputs": [
    {
     "data": {
      "text/plain": [
       "<surprise.prediction_algorithms.matrix_factorization.SVD at 0x785ea87622c0>"
      ]
     },
     "execution_count": 7,
     "metadata": {},
     "output_type": "execute_result"
    }
   ],
   "source": [
    "svd = SVD()\n",
    "trainset = data.build_full_trainset()\n",
    "svd.fit(trainset)"
   ]
  },
  {
   "cell_type": "code",
   "execution_count": 8,
   "id": "3acced1d",
   "metadata": {
    "execution": {
     "iopub.execute_input": "2024-06-22T18:42:58.230515Z",
     "iopub.status.busy": "2024-06-22T18:42:58.229981Z",
     "iopub.status.idle": "2024-06-22T18:43:53.312590Z",
     "shell.execute_reply": "2024-06-22T18:43:53.311588Z"
    },
    "papermill": {
     "duration": 55.090635,
     "end_time": "2024-06-22T18:43:53.315300",
     "exception": false,
     "start_time": "2024-06-22T18:42:58.224665",
     "status": "completed"
    },
    "tags": []
   },
   "outputs": [],
   "source": [
    "# Create a set of test pairs\n",
    "test_pairs = set(test.apply(lambda row: f\"{row['userId']}_{row['movieId']}\", axis=1))\n",
    "\n",
    "def get_predictions_batch(svd, test_pairs, batch_size=1000):\n",
    "    predictions = {}\n",
    "    for i in tqdm(range(0, len(test_pairs), batch_size)):\n",
    "        batch_pairs = list(test_pairs)[i:i+batch_size]\n",
    "        for pair in batch_pairs:\n",
    "            user, movie = map(int, pair.split('_'))\n",
    "            est = svd.predict(user, movie).est\n",
    "            predictions[pair] = est\n",
    "    return predictions"
   ]
  },
  {
   "cell_type": "code",
   "execution_count": 9,
   "id": "85de5d73",
   "metadata": {
    "execution": {
     "iopub.execute_input": "2024-06-22T18:43:53.325764Z",
     "iopub.status.busy": "2024-06-22T18:43:53.325005Z",
     "iopub.status.idle": "2024-06-22T19:12:53.906404Z",
     "shell.execute_reply": "2024-06-22T19:12:53.905268Z"
    },
    "papermill": {
     "duration": 1740.589013,
     "end_time": "2024-06-22T19:12:53.908853",
     "exception": false,
     "start_time": "2024-06-22T18:43:53.319840",
     "status": "completed"
    },
    "tags": []
   },
   "outputs": [
    {
     "name": "stdout",
     "output_type": "stream",
     "text": [
      "Getting predictions...\n"
     ]
    },
    {
     "name": "stderr",
     "output_type": "stream",
     "text": [
      "100%|██████████| 5001/5001 [29:00<00:00,  2.87it/s]\n"
     ]
    }
   ],
   "source": [
    "print(\"Getting predictions...\")\n",
    "predictions = get_predictions_batch(svd, test_pairs)"
   ]
  },
  {
   "cell_type": "code",
   "execution_count": 10,
   "id": "89a62338",
   "metadata": {
    "execution": {
     "iopub.execute_input": "2024-06-22T19:12:54.601866Z",
     "iopub.status.busy": "2024-06-22T19:12:54.601211Z",
     "iopub.status.idle": "2024-06-22T19:12:57.086166Z",
     "shell.execute_reply": "2024-06-22T19:12:57.085008Z"
    },
    "papermill": {
     "duration": 2.806637,
     "end_time": "2024-06-22T19:12:57.088819",
     "exception": false,
     "start_time": "2024-06-22T19:12:54.282182",
     "status": "completed"
    },
    "tags": []
   },
   "outputs": [
    {
     "name": "stdout",
     "output_type": "stream",
     "text": [
      "Creating submission DataFrame...\n"
     ]
    }
   ],
   "source": [
    "print(\"Creating submission DataFrame...\")\n",
    "submission = pd.DataFrame.from_dict(predictions, orient='index', columns=['rating'])\n",
    "submission.index.name = 'Id'\n",
    "submission.reset_index(inplace=True)"
   ]
  },
  {
   "cell_type": "code",
   "execution_count": 11,
   "id": "55f7cb6d",
   "metadata": {
    "execution": {
     "iopub.execute_input": "2024-06-22T19:12:57.728039Z",
     "iopub.status.busy": "2024-06-22T19:12:57.727658Z",
     "iopub.status.idle": "2024-06-22T19:13:10.749503Z",
     "shell.execute_reply": "2024-06-22T19:13:10.748439Z"
    },
    "papermill": {
     "duration": 13.341546,
     "end_time": "2024-06-22T19:13:10.752038",
     "exception": false,
     "start_time": "2024-06-22T19:12:57.410492",
     "status": "completed"
    },
    "tags": []
   },
   "outputs": [
    {
     "name": "stdout",
     "output_type": "stream",
     "text": [
      "Saving submission to CSV...\n",
      "Done!\n"
     ]
    }
   ],
   "source": [
    "print(\"Saving submission to CSV...\")\n",
    "submission.to_csv('submission.csv', index=False)\n",
    "print(\"Done!\")"
   ]
  },
  {
   "cell_type": "code",
   "execution_count": 12,
   "id": "2e6a3d3c",
   "metadata": {
    "execution": {
     "iopub.execute_input": "2024-06-22T19:13:11.521971Z",
     "iopub.status.busy": "2024-06-22T19:13:11.521512Z",
     "iopub.status.idle": "2024-06-22T19:13:11.534231Z",
     "shell.execute_reply": "2024-06-22T19:13:11.533194Z"
    },
    "papermill": {
     "duration": 0.414183,
     "end_time": "2024-06-22T19:13:11.536283",
     "exception": false,
     "start_time": "2024-06-22T19:13:11.122100",
     "status": "completed"
    },
    "tags": []
   },
   "outputs": [
    {
     "data": {
      "text/html": [
       "<div>\n",
       "<style scoped>\n",
       "    .dataframe tbody tr th:only-of-type {\n",
       "        vertical-align: middle;\n",
       "    }\n",
       "\n",
       "    .dataframe tbody tr th {\n",
       "        vertical-align: top;\n",
       "    }\n",
       "\n",
       "    .dataframe thead th {\n",
       "        text-align: right;\n",
       "    }\n",
       "</style>\n",
       "<table border=\"1\" class=\"dataframe\">\n",
       "  <thead>\n",
       "    <tr style=\"text-align: right;\">\n",
       "      <th></th>\n",
       "      <th>Id</th>\n",
       "      <th>rating</th>\n",
       "    </tr>\n",
       "  </thead>\n",
       "  <tbody>\n",
       "    <tr>\n",
       "      <th>0</th>\n",
       "      <td>147059_592</td>\n",
       "      <td>3.828160</td>\n",
       "    </tr>\n",
       "    <tr>\n",
       "      <th>1</th>\n",
       "      <td>118124_2406</td>\n",
       "      <td>3.957665</td>\n",
       "    </tr>\n",
       "    <tr>\n",
       "      <th>2</th>\n",
       "      <td>71919_778</td>\n",
       "      <td>4.156155</td>\n",
       "    </tr>\n",
       "    <tr>\n",
       "      <th>3</th>\n",
       "      <td>134985_88405</td>\n",
       "      <td>3.463283</td>\n",
       "    </tr>\n",
       "    <tr>\n",
       "      <th>4</th>\n",
       "      <td>4741_2706</td>\n",
       "      <td>4.202980</td>\n",
       "    </tr>\n",
       "  </tbody>\n",
       "</table>\n",
       "</div>"
      ],
      "text/plain": [
       "             Id    rating\n",
       "0    147059_592  3.828160\n",
       "1   118124_2406  3.957665\n",
       "2     71919_778  4.156155\n",
       "3  134985_88405  3.463283\n",
       "4     4741_2706  4.202980"
      ]
     },
     "execution_count": 12,
     "metadata": {},
     "output_type": "execute_result"
    }
   ],
   "source": [
    "submission.head()"
   ]
  }
 ],
 "metadata": {
  "kaggle": {
   "accelerator": "none",
   "dataSources": [
    {
     "databundleVersionId": 8778365,
     "sourceId": 81285,
     "sourceType": "competition"
    }
   ],
   "dockerImageVersionId": 30732,
   "isGpuEnabled": false,
   "isInternetEnabled": true,
   "language": "python",
   "sourceType": "notebook"
  },
  "kernelspec": {
   "display_name": "Python 3",
   "language": "python",
   "name": "python3"
  },
  "language_info": {
   "codemirror_mode": {
    "name": "ipython",
    "version": 3
   },
   "file_extension": ".py",
   "mimetype": "text/x-python",
   "name": "python",
   "nbconvert_exporter": "python",
   "pygments_lexer": "ipython3",
   "version": "3.10.13"
  },
  "papermill": {
   "default_parameters": {},
   "duration": 2072.094006,
   "end_time": "2024-06-22T19:13:14.683387",
   "environment_variables": {},
   "exception": null,
   "input_path": "__notebook__.ipynb",
   "output_path": "__notebook__.ipynb",
   "parameters": {},
   "start_time": "2024-06-22T18:38:42.589381",
   "version": "2.5.0"
  }
 },
 "nbformat": 4,
 "nbformat_minor": 5
}
